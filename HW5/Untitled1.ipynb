{
 "cells": [
  {
   "cell_type": "code",
   "execution_count": 14,
   "id": "9a69bde5-e2ff-4d92-a0e5-aeb1b96c6590",
   "metadata": {},
   "outputs": [],
   "source": [
    "import sys\n",
    "import requests\n",
    "from wordcloud import WordCloud\n",
    "import matplotlib.pyplot as plt\n",
    "from bs4 import BeautifulSoup\n",
    "import pandas as pd"
   ]
  },
  {
   "cell_type": "code",
   "execution_count": 17,
   "id": "70be3d8c-9409-47c0-8150-d8e3228c70f3",
   "metadata": {},
   "outputs": [
    {
     "data": {
      "text/plain": [
       "[]"
      ]
     },
     "execution_count": 17,
     "metadata": {},
     "output_type": "execute_result"
    }
   ],
   "source": [
    "URL = \"https://handlaprivatkund.ica.se/stores/1003777?gad_source=1&gclid=CjwKCAiA6t-6BhA3EiwAltRFGHCHXWnq8zZyHOYBB9yjEA4u_pAKH3_UdO13F9610fMNh_LL6Zrm-xoCM9UQAvD_BwE\"\n",
    "\n",
    "res = requests.get(URL)\n",
    "\n",
    "html = BeautifulSoup(res.content)\n",
    "\n",
    "products = html.find_all(\"div\", attrs={\"class\": \"product-card-container\"})\n",
    "products"
   ]
  }
 ],
 "metadata": {
  "kernelspec": {
   "display_name": "Python 3 (ipykernel)",
   "language": "python",
   "name": "python3"
  },
  "language_info": {
   "codemirror_mode": {
    "name": "ipython",
    "version": 3
   },
   "file_extension": ".py",
   "mimetype": "text/x-python",
   "name": "python",
   "nbconvert_exporter": "python",
   "pygments_lexer": "ipython3",
   "version": "3.9.13"
  }
 },
 "nbformat": 4,
 "nbformat_minor": 5
}
