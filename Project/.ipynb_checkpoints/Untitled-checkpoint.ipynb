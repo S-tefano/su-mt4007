{
 "cells": [
  {
   "cell_type": "code",
   "execution_count": 1,
   "id": "81d4cdb7-6aed-420a-9a20-e8f4905d8da9",
   "metadata": {},
   "outputs": [
    {
     "ename": "NameError",
     "evalue": "name 'data_frames' is not defined",
     "output_type": "error",
     "traceback": [
      "\u001b[0;31m---------------------------------------------------------------------------\u001b[0m",
      "\u001b[0;31mNameError\u001b[0m                                 Traceback (most recent call last)",
      "\u001b[0;32m/var/folders/ks/8mjq2_jd117dxwt9gm01k8hr0000gn/T/ipykernel_72205/3806900939.py\u001b[0m in \u001b[0;36m<module>\u001b[0;34m\u001b[0m\n\u001b[1;32m      3\u001b[0m \u001b[0;34m\u001b[0m\u001b[0m\n\u001b[1;32m      4\u001b[0m \u001b[0;31m# Combine all scraped DataFrames into one\u001b[0m\u001b[0;34m\u001b[0m\u001b[0;34m\u001b[0m\u001b[0m\n\u001b[0;32m----> 5\u001b[0;31m \u001b[0;32mif\u001b[0m \u001b[0mdata_frames\u001b[0m\u001b[0;34m:\u001b[0m  \u001b[0;31m# Ensure the list is not empty\u001b[0m\u001b[0;34m\u001b[0m\u001b[0;34m\u001b[0m\u001b[0m\n\u001b[0m\u001b[1;32m      6\u001b[0m     \u001b[0mcombined_data\u001b[0m \u001b[0;34m=\u001b[0m \u001b[0mpd\u001b[0m\u001b[0;34m.\u001b[0m\u001b[0mconcat\u001b[0m\u001b[0;34m(\u001b[0m\u001b[0mdata_frames\u001b[0m\u001b[0;34m,\u001b[0m \u001b[0mignore_index\u001b[0m\u001b[0;34m=\u001b[0m\u001b[0;32mTrue\u001b[0m\u001b[0;34m)\u001b[0m\u001b[0;34m\u001b[0m\u001b[0;34m\u001b[0m\u001b[0m\n\u001b[1;32m      7\u001b[0m \u001b[0;34m\u001b[0m\u001b[0m\n",
      "\u001b[0;31mNameError\u001b[0m: name 'data_frames' is not defined"
     ]
    }
   ],
   "source": [
    "import pandas as pd\n",
    "import numpy as np\n",
    "\n",
    "# Combine all scraped DataFrames into one\n",
    "if data_frames:  # Ensure the list is not empty\n",
    "    combined_data = pd.concat(data_frames, ignore_index=True)\n",
    "    \n",
    "    # Drop rows where all columns are NaN (optional cleanup)\n",
    "    combined_data.dropna(how='all', inplace=True)\n",
    "    \n",
    "    # Reset the index\n",
    "    combined_data.reset_index(drop=True, inplace=True)\n",
    "else:\n",
    "    print(\"No data was scraped.\")\n",
    "    exit()\n",
    "\n",
    "# Define weight classes with lower and upper limits\n",
    "weight_classes = [\n",
    "    {\"class_name\": \"Strawweight\", \"lower_limit\": 0, \"upper_limit\": 115},\n",
    "    {\"class_name\": \"Flyweight\", \"lower_limit\": 115, \"upper_limit\": 125},\n",
    "    {\"class_name\": \"Bantamweight\", \"lower_limit\": 125, \"upper_limit\": 135},\n",
    "    {\"class_name\": \"Featherweight\", \"lower_limit\": 135, \"upper_limit\": 145},\n",
    "    {\"class_name\": \"Lightweight\", \"lower_limit\": 145, \"upper_limit\": 155},\n",
    "    {\"class_name\": \"Super lightweight\", \"lower_limit\": 155, \"upper_limit\": 165},\n",
    "    {\"class_name\": \"Welterweight\", \"lower_limit\": 165, \"upper_limit\": 170},\n",
    "    {\"class_name\": \"Super welterweight\", \"lower_limit\": 170, \"upper_limit\": 175},\n",
    "    {\"class_name\": \"Middleweight\", \"lower_limit\": 175, \"upper_limit\": 185},\n",
    "    {\"class_name\": \"Super middleweight\", \"lower_limit\": 185, \"upper_limit\": 195},\n",
    "    {\"class_name\": \"Light heavyweight\", \"lower_limit\": 195, \"upper_limit\": 205},\n",
    "    {\"class_name\": \"Cruiserweight\", \"lower_limit\": 205, \"upper_limit\": 225},\n",
    "    {\"class_name\": \"Heavyweight\", \"lower_limit\": 225, \"upper_limit\": 265},\n",
    "    {\"class_name\": \"Super heavyweight\", \"lower_limit\": 265, \"upper_limit\": float('inf')}\n",
    "]\n",
    "\n",
    "# Function to map weight to weight class\n",
    "def assign_weight_class(weight):\n",
    "    for weight_class in weight_classes:\n",
    "        if weight_class[\"lower_limit\"] < weight <= weight_class[\"upper_limit\"]:\n",
    "            return weight_class[\"class_name\"]\n",
    "    return None\n",
    "\n",
    "# Ensure the 'Wt.' column is treated as strings (in case of mixed types)\n",
    "combined_data['Wt.'] = combined_data['Wt.'].astype(str)\n",
    "\n",
    "# Clean the weight column by removing 'lbs.' and stripping spaces\n",
    "combined_data['Wt.'] = combined_data['Wt.'].str.replace('lbs.', '', regex=False).str.strip()\n",
    "\n",
    "# Convert the cleaned weights to numeric values\n",
    "combined_data['Wt.'] = pd.to_numeric(combined_data['Wt.'], errors='coerce')\n",
    "\n",
    "# Handle missing weights (Option: Fill missing with the most common weight)\n",
    "most_common_weight = combined_data['Wt.'].mode()[0]  # Most frequent weight in the dataset\n",
    "combined_data['Wt.'].fillna(most_common_weight, inplace=True)\n",
    "\n",
    "# Assign fighters to weight classes\n",
    "combined_data['Weight Class'] = combined_data['Wt.'].apply(assign_weight_class)\n",
    "\n",
    "# Create a dictionary to store tables for each weight class\n",
    "weight_class_tables = {}\n",
    "\n",
    "# Loop through unique weight classes and filter data\n",
    "for weight_class in combined_data['Weight Class'].unique():\n",
    "    weight_class_tables[weight_class] = combined_data[combined_data['Weight Class'] == weight_class]\n",
    "# Print the count of fighters in each weight class\n",
    "\n",
    "print(combined_data['Weight Class'].value_counts())"
   ]
  }
 ],
 "metadata": {
  "kernelspec": {
   "display_name": "Python 3 (ipykernel)",
   "language": "python",
   "name": "python3"
  },
  "language_info": {
   "codemirror_mode": {
    "name": "ipython",
    "version": 3
   },
   "file_extension": ".py",
   "mimetype": "text/x-python",
   "name": "python",
   "nbconvert_exporter": "python",
   "pygments_lexer": "ipython3",
   "version": "3.9.13"
  }
 },
 "nbformat": 4,
 "nbformat_minor": 5
}
