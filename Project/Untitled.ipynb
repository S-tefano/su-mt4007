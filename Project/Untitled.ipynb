{
 "cells": [
  {
   "cell_type": "code",
   "execution_count": null,
   "id": "bfcf4803-ed8a-4258-a866-58e91a85659c",
   "metadata": {},
   "outputs": [],
   "source": [
    "import pandas as pd\n",
    "import requests\n",
    "from bs4 import BeautifulSoup\n",
    "import string\n",
    "# Base URL\n",
    "base_url = \"http://www.ufcstats.com/statistics/fighters?char=\"\n",
    "\n",
    "# All letters from a to z\n",
    "letters = list(string.ascii_lowercase)\n",
    "\n",
    "# Initialize an empty list to store DataFrames\n",
    "data_frames = []\n",
    "\n",
    "# Loop through each letter\n",
    "for letter in letters:\n",
    "    page_url = base_url + letter + \"&page=all\"\n",
    "    print(f\"Fetching data for {page_url}\")\n",
    "    \n",
    "    response = requests.get(page_url)\n",
    "    soup = BeautifulSoup(response.text, 'html.parser')\n",
    "\n",
    "    # Extract table\n",
    "    table = soup.find('table', class_='b-statistics__table')\n",
    "    \n",
    "    if table:  # Ensure the table is not None\n",
    "        try:\n",
    "            data = pd.read_html(str(table), flavor='bs4')[0]\n",
    "            data_frames.append(data)  # Add to the list of DataFrames\n",
    "        except Exception as e:\n",
    "            print(f\"Failed to parse table for {page_url}: {e}\")\n",
    "    else:\n",
    "        print(f\"No table found for {page_url}\")"
   ]
  }
 ],
 "metadata": {
  "kernelspec": {
   "display_name": "Python 3 (ipykernel)",
   "language": "python",
   "name": "python3"
  },
  "language_info": {
   "codemirror_mode": {
    "name": "ipython",
    "version": 3
   },
   "file_extension": ".py",
   "mimetype": "text/x-python",
   "name": "python",
   "nbconvert_exporter": "python",
   "pygments_lexer": "ipython3",
   "version": "3.9.13"
  }
 },
 "nbformat": 4,
 "nbformat_minor": 5
}
