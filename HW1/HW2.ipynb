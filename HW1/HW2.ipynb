{
 "cells": [
  {
   "cell_type": "code",
   "execution_count": 271,
   "id": "b00f75a6-30d4-42f5-b5ee-874ab6379e1b",
   "metadata": {},
   "outputs": [],
   "source": [
    "import pandas as pd\n",
    "import matplotlib.pyplot as plt"
   ]
  },
  {
   "cell_type": "code",
   "execution_count": 278,
   "id": "5c118b18-a9b6-4d84-ae73-50678a376b7a",
   "metadata": {},
   "outputs": [
    {
     "data": {
      "text/html": [
       "<div>\n",
       "<style scoped>\n",
       "    .dataframe tbody tr th:only-of-type {\n",
       "        vertical-align: middle;\n",
       "    }\n",
       "\n",
       "    .dataframe tbody tr th {\n",
       "        vertical-align: top;\n",
       "    }\n",
       "\n",
       "    .dataframe thead th {\n",
       "        text-align: right;\n",
       "    }\n",
       "</style>\n",
       "<table border=\"1\" class=\"dataframe\">\n",
       "  <thead>\n",
       "    <tr style=\"text-align: right;\">\n",
       "      <th></th>\n",
       "      <th>listPrice</th>\n",
       "      <th>rent</th>\n",
       "      <th>livingArea</th>\n",
       "      <th>rooms</th>\n",
       "      <th>published</th>\n",
       "      <th>constructionYear</th>\n",
       "      <th>objectType</th>\n",
       "      <th>booliId</th>\n",
       "      <th>soldDate</th>\n",
       "      <th>soldPrice</th>\n",
       "      <th>...</th>\n",
       "      <th>location.position.longitude</th>\n",
       "      <th>location.position.isApproximate</th>\n",
       "      <th>location.region.municipalityName</th>\n",
       "      <th>location.region.countyName</th>\n",
       "      <th>location.distance.ocean</th>\n",
       "      <th>source.name</th>\n",
       "      <th>source.id</th>\n",
       "      <th>source.type</th>\n",
       "      <th>source.url</th>\n",
       "      <th>ppsqm</th>\n",
       "    </tr>\n",
       "  </thead>\n",
       "  <tbody>\n",
       "    <tr>\n",
       "      <th>67</th>\n",
       "      <td>1595000</td>\n",
       "      <td>1464.0</td>\n",
       "      <td>24.0</td>\n",
       "      <td>1.0</td>\n",
       "      <td>2016-01-07 14:51:06</td>\n",
       "      <td>1935.0</td>\n",
       "      <td>Lägenhet</td>\n",
       "      <td>2018259</td>\n",
       "      <td>2016-01-21</td>\n",
       "      <td>2500000</td>\n",
       "      <td>...</td>\n",
       "      <td>18.055270</td>\n",
       "      <td>NaN</td>\n",
       "      <td>Stockholm</td>\n",
       "      <td>Stockholms län</td>\n",
       "      <td>161</td>\n",
       "      <td>Notar</td>\n",
       "      <td>1566</td>\n",
       "      <td>Broker</td>\n",
       "      <td>http://www.notar.se/</td>\n",
       "      <td>104166.0</td>\n",
       "    </tr>\n",
       "    <tr>\n",
       "      <th>50</th>\n",
       "      <td>1890000</td>\n",
       "      <td>1464.0</td>\n",
       "      <td>24.0</td>\n",
       "      <td>1.0</td>\n",
       "      <td>2016-06-11 08:55:51</td>\n",
       "      <td>1935.0</td>\n",
       "      <td>Lägenhet</td>\n",
       "      <td>2125576</td>\n",
       "      <td>2016-06-21</td>\n",
       "      <td>2450000</td>\n",
       "      <td>...</td>\n",
       "      <td>18.055270</td>\n",
       "      <td>NaN</td>\n",
       "      <td>Stockholm</td>\n",
       "      <td>Stockholms län</td>\n",
       "      <td>161</td>\n",
       "      <td>HusmanHagberg</td>\n",
       "      <td>1610</td>\n",
       "      <td>Broker</td>\n",
       "      <td>http://www.husmanhagberg.se/</td>\n",
       "      <td>102083.0</td>\n",
       "    </tr>\n",
       "    <tr>\n",
       "      <th>54</th>\n",
       "      <td>1795000</td>\n",
       "      <td>1374.0</td>\n",
       "      <td>23.0</td>\n",
       "      <td>1.0</td>\n",
       "      <td>2016-04-15 19:10:49</td>\n",
       "      <td>1935.0</td>\n",
       "      <td>Lägenhet</td>\n",
       "      <td>2078171</td>\n",
       "      <td>2016-04-28</td>\n",
       "      <td>2300000</td>\n",
       "      <td>...</td>\n",
       "      <td>18.055422</td>\n",
       "      <td>True</td>\n",
       "      <td>Stockholm</td>\n",
       "      <td>Stockholms län</td>\n",
       "      <td>135</td>\n",
       "      <td>Notar</td>\n",
       "      <td>1566</td>\n",
       "      <td>Broker</td>\n",
       "      <td>http://www.notar.se/</td>\n",
       "      <td>100000.0</td>\n",
       "    </tr>\n",
       "    <tr>\n",
       "      <th>34</th>\n",
       "      <td>1750000</td>\n",
       "      <td>1144.0</td>\n",
       "      <td>25.0</td>\n",
       "      <td>1.0</td>\n",
       "      <td>2017-05-18 16:20:57</td>\n",
       "      <td>1936.0</td>\n",
       "      <td>Lägenhet</td>\n",
       "      <td>2330886</td>\n",
       "      <td>2017-06-01</td>\n",
       "      <td>2210000</td>\n",
       "      <td>...</td>\n",
       "      <td>18.053880</td>\n",
       "      <td>NaN</td>\n",
       "      <td>Stockholm</td>\n",
       "      <td>Stockholms län</td>\n",
       "      <td>218</td>\n",
       "      <td>HusmanHagberg</td>\n",
       "      <td>1610</td>\n",
       "      <td>Broker</td>\n",
       "      <td>http://www.husmanhagberg.se/</td>\n",
       "      <td>88400.0</td>\n",
       "    </tr>\n",
       "    <tr>\n",
       "      <th>55</th>\n",
       "      <td>1895000</td>\n",
       "      <td>1522.0</td>\n",
       "      <td>26.9</td>\n",
       "      <td>1.0</td>\n",
       "      <td>2016-04-01 22:56:37</td>\n",
       "      <td>1968.0</td>\n",
       "      <td>Lägenhet</td>\n",
       "      <td>2067384</td>\n",
       "      <td>2016-04-19</td>\n",
       "      <td>2300000</td>\n",
       "      <td>...</td>\n",
       "      <td>18.058529</td>\n",
       "      <td>True</td>\n",
       "      <td>Stockholm</td>\n",
       "      <td>Stockholms län</td>\n",
       "      <td>298</td>\n",
       "      <td>Notar</td>\n",
       "      <td>1566</td>\n",
       "      <td>Broker</td>\n",
       "      <td>http://www.notar.se/</td>\n",
       "      <td>85501.0</td>\n",
       "    </tr>\n",
       "  </tbody>\n",
       "</table>\n",
       "<p>5 rows × 28 columns</p>\n",
       "</div>"
      ],
      "text/plain": [
       "    listPrice    rent  livingArea  rooms            published  \\\n",
       "67    1595000  1464.0        24.0    1.0  2016-01-07 14:51:06   \n",
       "50    1890000  1464.0        24.0    1.0  2016-06-11 08:55:51   \n",
       "54    1795000  1374.0        23.0    1.0  2016-04-15 19:10:49   \n",
       "34    1750000  1144.0        25.0    1.0  2017-05-18 16:20:57   \n",
       "55    1895000  1522.0        26.9    1.0  2016-04-01 22:56:37   \n",
       "\n",
       "    constructionYear objectType  booliId    soldDate  soldPrice  ...  \\\n",
       "67            1935.0   Lägenhet  2018259  2016-01-21    2500000  ...   \n",
       "50            1935.0   Lägenhet  2125576  2016-06-21    2450000  ...   \n",
       "54            1935.0   Lägenhet  2078171  2016-04-28    2300000  ...   \n",
       "34            1936.0   Lägenhet  2330886  2017-06-01    2210000  ...   \n",
       "55            1968.0   Lägenhet  2067384  2016-04-19    2300000  ...   \n",
       "\n",
       "   location.position.longitude location.position.isApproximate  \\\n",
       "67                   18.055270                             NaN   \n",
       "50                   18.055270                             NaN   \n",
       "54                   18.055422                            True   \n",
       "34                   18.053880                             NaN   \n",
       "55                   18.058529                            True   \n",
       "\n",
       "    location.region.municipalityName  location.region.countyName  \\\n",
       "67                         Stockholm              Stockholms län   \n",
       "50                         Stockholm              Stockholms län   \n",
       "54                         Stockholm              Stockholms län   \n",
       "34                         Stockholm              Stockholms län   \n",
       "55                         Stockholm              Stockholms län   \n",
       "\n",
       "    location.distance.ocean    source.name source.id  source.type  \\\n",
       "67                      161          Notar      1566       Broker   \n",
       "50                      161  HusmanHagberg      1610       Broker   \n",
       "54                      135          Notar      1566       Broker   \n",
       "34                      218  HusmanHagberg      1610       Broker   \n",
       "55                      298          Notar      1566       Broker   \n",
       "\n",
       "                      source.url     ppsqm  \n",
       "67          http://www.notar.se/  104166.0  \n",
       "50  http://www.husmanhagberg.se/  102083.0  \n",
       "54          http://www.notar.se/  100000.0  \n",
       "34  http://www.husmanhagberg.se/   88400.0  \n",
       "55          http://www.notar.se/   85501.0  \n",
       "\n",
       "[5 rows x 28 columns]"
      ]
     },
     "execution_count": 278,
     "metadata": {},
     "output_type": "execute_result"
    }
   ],
   "source": [
    "#1 Apartment Prices\n",
    "\n",
    "df = pd.read_csv(\"https://raw.githubusercontent.com/su-mt4007/data/refs/heads/main/Booli_sold.csv\")\n",
    "\n",
    "#1.1 Calculate the price per square meter (ppsqm) for each apartment sold. That is, add a new variable to your table containing the data representing the ppsqm.\n",
    "df[\"ppsqm\"] = df[\"soldPrice\"]//df[\"livingArea\"]\n",
    "\n",
    "#1.2 Rank the top 5 most expensive appartments w.r.t ppsqm. Present this in a table. Hint: Use a sort function.\n",
    "df_sorted = df.sort_values(\"ppsqm\", ascending=False).head(5)\n",
    "df_sorted"
   ]
  },
  {
   "cell_type": "code",
   "execution_count": 177,
   "id": "e2fa95ee-3271-4334-9a01-9151d400380d",
   "metadata": {},
   "outputs": [
    {
     "data": {
      "text/plain": [
       "58758.92993630573"
      ]
     },
     "execution_count": 177,
     "metadata": {},
     "output_type": "execute_result"
    }
   ],
   "source": [
    "#1.3 What is the avereage ppsqm in Ekhagen?\n",
    "df[\"ppsqm\"].mean()"
   ]
  },
  {
   "cell_type": "markdown",
   "id": "9f81fc8d-66a1-4db9-89ce-7fb57a2c6843",
   "metadata": {},
   "source": [
    "# 1.4 Highlight an aspect of the data that you find interesting. Explain your choice.\n",
    "We can observe that the top five most expensive apartments in terms of price per square meter all have only one room."
   ]
  },
  {
   "cell_type": "code",
   "execution_count": 190,
   "id": "9f4bc7fd-d3f3-45f4-b88e-8bcb1cbe5e57",
   "metadata": {},
   "outputs": [
    {
     "data": {
      "text/plain": [
       "1426237"
      ]
     },
     "execution_count": 190,
     "metadata": {},
     "output_type": "execute_result"
    }
   ],
   "source": [
    "#2 The Swedish Election of 2018\n",
    "\n",
    "#2.1 Calculate the total number of legitimate votes (Giltiga Röster) in Stockholm during the election. That is, sum upp the number of legitimate votes for all municipalities (kommun) in Stockholm.\n",
    "df_2 = pd.read_csv(\"https://raw.githubusercontent.com/su-mt4007/data/refs/heads/main/2018_R_per_kommun.csv\", sep=\";\", decimal=\",\")\n",
    "condition = df_2[\"LÄNSNAMN\"].str.contains(\"Stockholms\") \n",
    "Data_in_Stockholm = df_2[condition]\n",
    "Sum = sum(Data_in_Stockholm[\"RÖSTER GILTIGA\"])\n",
    "Sum"
   ]
  },
  {
   "cell_type": "code",
   "execution_count": 202,
   "id": "92883bf7-e317-4b88-8886-087487a269e9",
   "metadata": {},
   "outputs": [
    {
     "data": {
      "text/plain": [
       "188    Munkfors\n",
       "Name: KOMMUNNAMN, dtype: object"
      ]
     },
     "execution_count": 202,
     "metadata": {},
     "output_type": "execute_result"
    }
   ],
   "source": [
    "#2.2 In which municipality did the social democratic party (Social demokraterna, S) garner the hightest voting percentage?\n",
    "df_2.sort_values(\"S\", ascending=False).head(1)[\"KOMMUNNAMN\"]"
   ]
  },
  {
   "cell_type": "code",
   "execution_count": 198,
   "id": "5d4ccfff-379c-4893-aedd-d7ce5c361050",
   "metadata": {},
   "outputs": [
    {
     "data": {
      "text/plain": [
       "103       Lomma\n",
       "59         Habo\n",
       "98     Vellinge\n",
       "Name: KOMMUNNAMN, dtype: object"
      ]
     },
     "execution_count": 198,
     "metadata": {},
     "output_type": "execute_result"
    }
   ],
   "source": [
    "#2.3 Rank the (3) municipialities with highest participation (valdeltagande). Present this in the form of a table.\n",
    "df_2.sort_values(\"VALDELTAGANDE\", ascending=False).head(3)[\"KOMMUNNAMN\"]"
   ]
  },
  {
   "cell_type": "markdown",
   "id": "865ad220-3671-4ff3-bda9-95c4e62a05a2",
   "metadata": {},
   "source": [
    "# 3 Predicting Strokes\n",
    "I loaded the stroke data from a CSV file using pandas. I then calculated the total number of strokes for married and \n",
    "never married individuals. Using these counts, I determined the proportion of total strokes for each group. Finally, \n",
    "I used matplotlib to create a bar chart displaying the proportions of strokes for married and never married individuals."
   ]
  },
  {
   "cell_type": "code",
   "execution_count": 272,
   "id": "83357184-711e-42cb-b758-e4890ed78848",
   "metadata": {},
   "outputs": [
    {
     "name": "stdout",
     "output_type": "stream",
     "text": [
      "220\n"
     ]
    },
    {
     "data": {
      "image/png": "[encoded data removed]",
      "text/plain": [
       "<Figure size 640x480 with 1 Axes>"
      ]
     },
     "metadata": {},
     "output_type": "display_data"
    }
   ],
   "source": [
    "#3 Predicting Strokes\n",
    "\n",
    "\n",
    "#3.1\n",
    "df_3 = pd.read_csv(\"https://raw.githubusercontent.com/su-mt4007/data/refs/heads/main/stroke-data.csv\")\n",
    "\n",
    "#Married_stroke\n",
    "condition_1 = (df_3[\"ever_married\"].str.contains(\"Yes\"))\n",
    "Married_stroke = df_3[condition_1][\"stroke\"].sum()\n",
    "\n",
    "#Never_married_stroke\n",
    "condition_2 = (df_3[\"ever_married\"].str.contains(\"No\"))\n",
    "Never_married_stroke = df_3[condition_2][\"stroke\"].sum()\n",
    "\n",
    "#Tot stroke\n",
    "Tot_stroke = df_3[\"stroke\"].sum()\n",
    "\n",
    "print(Married_stroke)\n",
    "\n",
    "A = Never_married_stroke / Tot_stroke\n",
    "B = Married_stroke / Tot_stroke\n",
    "\n",
    "#\n",
    "\n",
    "labels = ['Never Married', 'Married']\n",
    "values = [A, B]\n",
    "\n",
    "plt.bar(labels, values, color=['blue', 'green'])\n",
    "plt.xlabel('Marital Status')\n",
    "plt.ylabel('Proportion of Total Strokes')\n",
    "plt.title('Proportion of Strokes by Marital Status')\n",
    "plt.show()"
   ]
  },
  {
   "cell_type": "markdown",
   "id": "d3ad0f79-15c1-4d23-a324-80eaaab63f49",
   "metadata": {},
   "source": [
    "# Conclusions \n",
    "The data indicates that married individuals have a higher incidence of strokes compared to never married individuals. This suggests a potential association between being married and increased stroke risk. Further investigation is needed to understand the underlying causes and contributing factors."
   ]
  }
 ],
 "metadata": {
  "kernelspec": {
   "display_name": "Python 3 (ipykernel)",
   "language": "python",
   "name": "python3"
  },
  "language_info": {
   "codemirror_mode": {
    "name": "ipython",
    "version": 3
   },
   "file_extension": ".py",
   "mimetype": "text/x-python",
   "name": "python",
   "nbconvert_exporter": "python",
   "pygments_lexer": "ipython3",
   "version": "3.9.13"
  }
 },
 "nbformat": 4,
 "nbformat_minor": 5
}
