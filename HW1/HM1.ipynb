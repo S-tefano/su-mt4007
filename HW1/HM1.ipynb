{
 "cells": [
  {
   "cell_type": "markdown",
   "id": "6ae96007-6b0d-4786-9ac7-a4eaef61d5f8",
   "metadata": {},
   "source": [
    "#Homework 1 \n",
    "\n",
    "\n",
    "\n",
    "\n",
    "\n",
    "\n",
    "\n",
    "\n",
    "\n"
   ]
  },
  {
   "cell_type": "code",
   "execution_count": 5,
   "id": "3eada002-0600-4ae5-a3db-3b0134c1c5dc",
   "metadata": {},
   "outputs": [
    {
     "name": "stdout",
     "output_type": "stream",
     "text": [
      "My name is Stefano, I'm 21 years old and i study Math and Economics at Stockholm University.\n"
     ]
    }
   ],
   "source": [
    "print(\"My name is Stefano, I'm 21 years old and i study Math and Economics at Stockholm University.\")"
   ]
  },
  {
   "cell_type": "code",
   "execution_count": null,
   "id": "9c589f3b-5a0f-49f0-a70a-6bab63554377",
   "metadata": {},
   "outputs": [],
   "source": []
  }
 ],
 "metadata": {
  "kernelspec": {
   "display_name": "Python 3 (ipykernel)",
   "language": "python",
   "name": "python3"
  },
  "language_info": {
   "codemirror_mode": {
    "name": "ipython",
    "version": 3
   },
   "file_extension": ".py",
   "mimetype": "text/x-python",
   "name": "python",
   "nbconvert_exporter": "python",
   "pygments_lexer": "ipython3",
   "version": "3.9.13"
  }
 },
 "nbformat": 4,
 "nbformat_minor": 5
}
