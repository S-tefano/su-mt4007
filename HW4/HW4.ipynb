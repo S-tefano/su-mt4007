{
 "cells": [
  {
   "cell_type": "markdown",
   "id": "ccb4538a-8558-4291-ab29-877e3f09573d",
   "metadata": {},
   "source": [
    "# Joining Data\n",
    "\n",
    "In this task, I will combine datasets to analyze cell phones per capita across countries. Using the cleaned cell phone data, I’ll integrate population data from pop_data.csv, handling missing values appropriately. Both datasets will be reshaped by pivoting, and I’ll replace iso-3 codes with country names using country_data.csv.\n",
    "\n",
    "After merging, I’ll calculate cell phones per capita by dividing phone counts by population size and present a table highlighting countries with the highest values in 2019. Finally, I’ll analyze and plot the growth rate of cell phones per capita over the last decade, identifying the fastest-growing country while documenting each step."
   ]
  }
 ],
 "metadata": {
  "kernelspec": {
   "display_name": "Python 3 (ipykernel)",
   "language": "python",
   "name": "python3"
  },
  "language_info": {
   "codemirror_mode": {
    "name": "ipython",
    "version": 3
   },
   "file_extension": ".py",
   "mimetype": "text/x-python",
   "name": "python",
   "nbconvert_exporter": "python",
   "pygments_lexer": "ipython3",
   "version": "3.9.13"
  }
 },
 "nbformat": 4,
 "nbformat_minor": 5
}
