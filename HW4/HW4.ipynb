{
 "cells": [
  {
   "cell_type": "markdown",
   "id": "1d05063f-f5cb-4e51-98fb-ce725e9cb612",
   "metadata": {},
   "source": [
    "# Homework 4"
   ]
  },
  {
   "cell_type": "markdown",
   "id": "ccb4538a-8558-4291-ab29-877e3f09573d",
   "metadata": {},
   "source": [
    "## Joining Data\n",
    "\n",
    "In this task, I will combine datasets to analyze cell phones per capita across countries. Using the cleaned cell phone data, I’ll integrate population data from pop_data.csv, handling missing values appropriately. Both datasets will be reshaped by pivoting, and I’ll replace iso-3 codes with country names using country_data.csv.\n",
    "\n",
    "After merging, I’ll calculate cell phones per capita by dividing phone counts by population size and present a table highlighting countries with the highest values in 2019. Finally, I’ll analyze and plot the growth rate of cell phones per capita over the last decade, identifying the fastest-growing country while documenting each step."
   ]
  },
  {
   "cell_type": "code",
   "execution_count": 137,
   "id": "6c08acf6-995f-43d4-953f-8512aae95f10",
   "metadata": {},
   "outputs": [],
   "source": [
    "import pandas as pd\n",
    "import numpy as np\n",
    "import matplotlib.pyplot as plt\n",
    "import sqlite3\n",
    "import re\n",
    "import requests"
   ]
  },
  {
   "cell_type": "code",
   "execution_count": null,
   "id": "8657bfcd-bc42-476a-95cc-d2abf368ad46",
   "metadata": {},
   "outputs": [],
   "source": []
  },
  {
   "cell_type": "code",
   "execution_count": 73,
   "id": "9f5b7934-cee0-4c23-aa3a-a341c9ad3f9d",
   "metadata": {},
   "outputs": [],
   "source": [
    "cell_phones = pd.read_csv(\"cleaned_cell_phones_total.csv\")"
   ]
  },
  {
   "cell_type": "code",
   "execution_count": 74,
   "id": "ad0d259d-90db-4cfd-9785-22badd107dba",
   "metadata": {},
   "outputs": [],
   "source": [
    "population = pd.read_csv(\"https://raw.githubusercontent.com/su-mt4007/data/refs/heads/main/pop_data.csv\")\n",
    "population = population.drop(index=[110])\n",
    "# Fill leading NaN values with the first non-NaN value, and then interpolate\n",
    "population.loc[196] = population.loc[196].fillna(method='bfill').interpolate(method='linear')"
   ]
  },
  {
   "cell_type": "code",
   "execution_count": 83,
   "id": "2fea3b68-7101-4681-89ac-6f7ae06ea95b",
   "metadata": {},
   "outputs": [
    {
     "name": "stdout",
     "output_type": "stream",
     "text": [
      "      iso-3  year  n_cellphones  population\n",
      "0       ABW  1960           0.0     54608.0\n",
      "1       AFG  1960           0.0   8622466.0\n",
      "2       AGO  1960           0.0   5357195.0\n",
      "3       ALB  1960           0.0   1608800.0\n",
      "4       AND  1960           0.0      9443.0\n",
      "...     ...   ...           ...         ...\n",
      "11979   XKX  2019           0.0   1788878.0\n",
      "11980   YEM  2019           0.0  31546691.0\n",
      "11981   ZAF  2019    97000000.0  58087055.0\n",
      "11982   ZMB  2019    17200000.0  18380477.0\n",
      "11983   ZWE  2019    13200000.0  15354608.0\n",
      "\n",
      "[11984 rows x 4 columns]\n"
     ]
    }
   ],
   "source": [
    "# Drop the 'Unnamed: 0' column if it exists\n",
    "population = population.loc[:, ~population.columns.str.contains('^Unnamed')]\n",
    "\n",
    "# Reshape population data to long format\n",
    "population_long = population.melt(id_vars=[\"iso-3\"], var_name=\"year\", value_name=\"population\")\n",
    "\n",
    "# Convert 'year' column to integers, dropping invalid rows\n",
    "population_long[\"year\"] = pd.to_numeric(population_long[\"year\"], errors=\"coerce\")\n",
    "population_long = population_long.dropna(subset=[\"year\"]).astype({\"year\": int})\n",
    "\n",
    "cell_phones_long = cell_phones.melt(id_vars=[\"iso-3\"], var_name=\"year\", value_name=\"n_cellphones\")\n",
    "cell_phones_long[\"year\"] = cell_phones_long[\"year\"].astype(int)  # Ensure the 'year' column is intege\n",
    "\n",
    "# Merge cell phone and population data\n",
    "merged_data = pd.merge(cell_phones_long, population_long, on=[\"iso-3\", \"year\"], how=\"inner\")\n",
    "print(merged_data)"
   ]
  },
  {
   "cell_type": "code",
   "execution_count": 173,
   "id": "a2478eb0-f0f3-4fc5-9012-ccb9ce2a02bc",
   "metadata": {},
   "outputs": [
    {
     "name": "stdout",
     "output_type": "stream",
     "text": [
      "Top countries in 2019: ['Congo', 'Mauritius', 'Equatorial Guinea', 'Gambia', 'Hong Kong']\n",
      "name     Congo  Mauritius  Equatorial Guinea    Gambia  Hong Kong\n",
      "year                                                             \n",
      "2015  1.030727   1.393641           0.395702  1.207208   2.290401\n",
      "2016  1.044955   1.432249           0.411744  1.225614   2.398931\n",
      "2017  0.952499   1.454675           0.390158  1.247280   2.488773\n",
      "2018  0.918938   1.517095           0.393452  1.300658   2.670209\n",
      "2019  9.280646   5.375261           4.343120  2.887739   2.863650\n"
     ]
    }
   ],
   "source": [
    "# Calculate phones per capita\n",
    "merged_data[\"phones_per_capita\"] = merged_data[\"n_cellphones\"] / merged_data[\"population\"]\n",
    "\n",
    "\n",
    "# Load data\n",
    "country_data = pd.read_csv(\"https://raw.githubusercontent.com/su-mt4007/data/refs/heads/main/country_data.csv\")\n",
    "\n",
    "# Select only relevant columns from country_data\n",
    "country_data = country_data[[\"alpha-3\", \"name\"]]\n",
    "\n",
    "# Rename name_y to name if it exists\n",
    "if \"name_y\" in merged_data.columns:\n",
    "    merged_data = merged_data.rename(columns={\"name_y\": \"name\"})\n",
    "\n",
    "# Drop name_x if it exists\n",
    "if \"name_x\" in merged_data.columns:\n",
    "    merged_data = merged_data.drop(columns=[\"name_x\"])\n",
    "\n",
    "# Calculate phones per capita\n",
    "merged_data[\"phones_per_capita\"] = merged_data[\"n_cellphones\"] / merged_data[\"population\"]\n",
    "\n",
    "# Filter out rows with unrealistic phones_per_capita values\n",
    "merged_data = merged_data[merged_data[\"phones_per_capita\"] < 10]  # Adjust threshold as needed\n",
    "\n",
    "# Sort by year and country name\n",
    "sorted_data = merged_data.sort_values(by=[\"year\", \"name\"])\n",
    "\n",
    "\n",
    "# Filter for 2019 and sort by phones_per_capita\n",
    "top_countries_2019 = merged_data[merged_data[\"year\"] == 2019].sort_values(by=\"phones_per_capita\", ascending=False).head(5)\n",
    "\n",
    "# Get the names of the top countries\n",
    "top_country_names = top_countries_2019[\"name\"].tolist()\n",
    "print(\"Top countries in 2019:\", top_country_names)\n",
    "\n",
    "# Filter data for top countries from 2015 to 2019\n",
    "filtered_data = merged_data[\n",
    "    (merged_data[\"name\"].isin(top_country_names)) & (merged_data[\"year\"] >= 2015)\n",
    "]\n",
    "\n",
    "# Create a pivot table\n",
    "pivot_table = filtered_data.pivot(index=\"year\", columns=\"name\", values=\"phones_per_capita\")\n",
    "\n",
    "# Sort columns to match the order of top countries\n",
    "pivot_table = pivot_table[top_country_names]\n",
    "\n",
    "# Display the pivot table\n",
    "print(pivot_table)"
   ]
  },
  {
   "cell_type": "code",
   "execution_count": 176,
   "id": "25db8e10-086c-4483-a8a3-f3247e5f8d1e",
   "metadata": {},
   "outputs": [
    {
     "name": "stdout",
     "output_type": "stream",
     "text": [
      "The country with the highest growth rate from 2015 to 2019 is Equatorial Guinea with a growth rate of 997.57%.\n"
     ]
    },
    {
     "data": {
      "image/png": "[encoded data removed]",
      "text/plain": [
       "<Figure size 1000x600 with 1 Axes>"
      ]
     },
     "metadata": {},
     "output_type": "display_data"
    }
   ],
   "source": [
    "import matplotlib.pyplot as plt\n",
    "\n",
    "# Calculate the growth rate for each country\n",
    "growth_rate = (pivot_table.loc[2019] - pivot_table.loc[2015]) / pivot_table.loc[2015] * 100\n",
    "\n",
    "# Find the country with the highest growth rate\n",
    "highest_growth_country = growth_rate.idxmax()\n",
    "highest_growth_rate = growth_rate.max()\n",
    "\n",
    "print(f\"The country with the highest growth rate from 2015 to 2019 is {highest_growth_country} with a growth rate of {highest_growth_rate:.2f}%.\")\n",
    "\n",
    "# Plot the growth trends for all countries\n",
    "pivot_table.plot(kind='line', marker='o', figsize=(10, 6))\n",
    "\n",
    "# Highlight the country with the highest growth rate\n",
    "plt.title(\"Growth Rate of Cell Phones Per Capita (2015-2019)\")\n",
    "plt.xlabel(\"Year\")\n",
    "plt.ylabel(\"Cell Phones Per Capita\")\n",
    "plt.legend(title=\"Country\")\n",
    "plt.grid(True)\n",
    "plt.show()"
   ]
  },
  {
   "cell_type": "markdown",
   "id": "109b51ad-ef79-4fc5-8f4c-b156fc5096a9",
   "metadata": {},
   "source": [
    "# Task 2"
   ]
  },
  {
   "cell_type": "markdown",
   "id": "0c700894-9e22-491b-a82b-1881bedf95bb",
   "metadata": {},
   "source": [
    "## SQL\n",
    "\n",
    "In this task I will analyze the user_actions.db SQLite database to solve three tasks using SQL queries. First, I will retrieve the usernames of all users who performed the \"signup\" action by filtering the user_actions table where the action column equals \"signup.\" Next, I will calculate the total number of log entries for each user by grouping the data by user_id and username and counting their respective entries. Finally, I will identify users who both logged in and signed up on the same day by performing a self-join on the user_actions table, matching user_id and date while filtering for rows where one action is \"login\" and the other is \"signup.\""
   ]
  },
  {
   "cell_type": "code",
   "execution_count": 147,
   "id": "6f125496-a26a-4554-a830-4d8b19eb0593",
   "metadata": {},
   "outputs": [
    {
     "name": "stdout",
     "output_type": "stream",
     "text": [
      "Task 1: Usernames who performed 'signup':\n",
      "   username\n",
      "0    user34\n",
      "1    user28\n",
      "2     user1\n",
      "3    user24\n",
      "4    user15\n",
      "5    user20\n",
      "6    user18\n",
      "7    user25\n",
      "8     user3\n",
      "9     user9\n",
      "10   user27\n",
      "11   user16\n",
      "12   user17\n",
      "13    user4\n",
      "14    user8\n",
      "15   user13\n",
      "16   user19\n",
      "17   user31\n",
      "18   user10\n",
      "19   user23\n",
      "20   user11\n",
      "21   user33\n",
      "22   user12\n",
      "23   user29\n",
      "24   user21\n",
      "25    user6\n",
      "26   user14\n",
      "27   user30\n",
      "28    user7\n",
      "29   user26\n",
      "30   user22\n",
      "31    user5\n",
      "32   user35\n",
      "33    user2\n",
      "34   user32\n"
     ]
    }
   ],
   "source": [
    "# Path to the SQLite database file\n",
    "db_path = \"user_actions (2).db\"  # Update with the exact file name\n",
    "\n",
    "# Connect to the SQLite database\n",
    "conn = sqlite3.connect(db_path)\n",
    "\n",
    "# Task 1: Retrieve usernames of all users who have performed the \"signup\" action\n",
    "task_1_query = \"\"\"\n",
    "SELECT DISTINCT username\n",
    "FROM user_actions\n",
    "WHERE action = 'signup';\n",
    "\"\"\"\n",
    "task_1_result = pd.read_sql_query(task_1_query, conn)\n",
    "print(\"Task 1: Usernames who performed 'signup':\")\n",
    "print(task_1_result)"
   ]
  },
  {
   "cell_type": "code",
   "execution_count": 148,
   "id": "a12d7b6b-3f3c-4f86-b3c6-817535d0ac16",
   "metadata": {},
   "outputs": [
    {
     "name": "stdout",
     "output_type": "stream",
     "text": [
      "\n",
      "Task 2: Total log entries per user:\n",
      "    user_id username  log_entries_count\n",
      "0         1    user1                104\n",
      "1         2    user2                149\n",
      "2         3    user3                108\n",
      "3         4    user4                436\n",
      "4         5    user5                192\n",
      "5         6    user6                457\n",
      "6         7    user7                362\n",
      "7         8    user8                329\n",
      "8         9    user9                118\n",
      "9        10   user10                170\n",
      "10       11   user11                328\n",
      "11       12   user12                209\n",
      "12       13   user13                470\n",
      "13       14   user14                320\n",
      "14       15   user15                 35\n",
      "15       16   user16                379\n",
      "16       17   user17                367\n",
      "17       18   user18                122\n",
      "18       19   user19                 58\n",
      "19       20   user20                362\n",
      "20       21   user21                323\n",
      "21       22   user22                275\n",
      "22       23   user23                309\n",
      "23       24   user24                162\n",
      "24       25   user25                136\n",
      "25       26   user26                217\n",
      "26       27   user27                211\n",
      "27       28   user28                 91\n",
      "28       29   user29                 49\n",
      "29       30   user30                165\n",
      "30       31   user31                389\n",
      "31       32   user32                 32\n",
      "32       33   user33                 32\n",
      "33       34   user34                180\n",
      "34       35   user35                394\n"
     ]
    }
   ],
   "source": [
    "# Task 2: Find the total number of log entries for each user\n",
    "task_2_query = \"\"\"\n",
    "SELECT user_id, username, COUNT(*) AS log_entries_count\n",
    "FROM user_actions\n",
    "GROUP BY user_id, username;\n",
    "\"\"\"\n",
    "task_2_result = pd.read_sql_query(task_2_query, conn)\n",
    "print(\"\\nTask 2: Total log entries per user:\")\n",
    "print(task_2_result)"
   ]
  },
  {
   "cell_type": "code",
   "execution_count": 169,
   "id": "2fc03b58-d4cc-406d-bb62-3da4770cd90d",
   "metadata": {},
   "outputs": [
    {
     "name": "stdout",
     "output_type": "stream",
     "text": [
      "Users who logged in and signed up on the same day:\n",
      "   user_id username\n",
      "0        8    user8\n",
      "1       12   user12\n",
      "2       30   user30\n",
      "3        7    user7\n",
      "4       22   user22\n",
      "5        5    user5\n",
      "6        2    user2\n",
      "7       32   user32\n"
     ]
    }
   ],
   "source": [
    "import sqlite3\n",
    "import pandas as pd\n",
    "\n",
    "# Path to the SQLite database file\n",
    "db_path = \"user_actions (2).db\"  # Update with your file name\n",
    "\n",
    "# Connect to the SQLite database\n",
    "conn = sqlite3.connect(db_path)\n",
    "\n",
    "# Query to find users who logged in and signed up on the same day\n",
    "query = \"\"\"\n",
    "SELECT DISTINCT a.user_id, a.username\n",
    "FROM user_actions a\n",
    "JOIN user_actions b\n",
    "  ON a.user_id = b.user_id\n",
    "  AND DATE(a.timestamp) = DATE(b.timestamp)  -- Ensure both actions occurred on the same date\n",
    "WHERE a.action = 'login' AND b.action = 'signup';\n",
    "\"\"\"\n",
    "\n",
    "# Execute the query and load the results into a DataFrame\n",
    "result = pd.read_sql_query(query, conn)\n",
    "\n",
    "# Display the results\n",
    "print(\"Users who logged in and signed up on the same day:\")\n",
    "print(result)\n",
    "\n",
    "# Close the connection\n",
    "conn.close()\n"
   ]
  },
  {
   "cell_type": "markdown",
   "id": "60b5f41a-3fae-4471-ae91-3baced4c995f",
   "metadata": {},
   "source": [
    "# Task 3 "
   ]
  },
  {
   "cell_type": "markdown",
   "id": "ec7f62f6-ae36-4a82-9f93-663b61816215",
   "metadata": {},
   "source": [
    "## Regex\n",
    "\n",
    "In this task I will analyze the comments.txt file to extract and work with hashtags included in user comments. First, I will write a regular expression to extract all hashtags from a given comment, such as #programming and #tips in the comment \"Great post! #programming #tips\". Next, I will create a regex to identify comments that mention both #programming and #python simultaneously, and I will test it on a specific comment to check if it matches. Finally, I will use the regex to extract all unique hashtags across the entire file, identifying patterns and trends in tag usage. This will allow me to explore how hashtags are used in the comments effectively."
   ]
  },
  {
   "cell_type": "code",
   "execution_count": 139,
   "id": "8812256f-79c2-437c-9345-47f92a295edd",
   "metadata": {},
   "outputs": [
    {
     "name": "stdout",
     "output_type": "stream",
     "text": [
      "First Comment: 1. \"Great post! #programming #tips\"\n",
      "Extracted Hashtags: ['#programming', '#tips']\n"
     ]
    }
   ],
   "source": [
    "# Fetch comments from the URL\n",
    "url = \"https://raw.githubusercontent.com/su-mt4007/data/refs/heads/main/comments.txt\"\n",
    "response = requests.get(url)\n",
    "comments = response.text.splitlines()  # Split into a list of lines\n",
    "\n",
    "# Extract the first comment\n",
    "first_comment = comments[0]  # Assuming the first line is the first comment\n",
    "\n",
    "# Regex to extract hashtags\n",
    "regex = r\"#\\w+\"\n",
    "\n",
    "# Extract hashtags from the first comment\n",
    "hashtags = re.findall(regex, first_comment)\n",
    "\n",
    "# Print the first comment and extracted hashtags\n",
    "print(\"First Comment:\", first_comment)\n",
    "print(\"Extracted Hashtags:\", hashtags)"
   ]
  },
  {
   "cell_type": "code",
   "execution_count": 141,
   "id": "339b99cb-d93a-47e4-8ebe-0391752d785a",
   "metadata": {},
   "outputs": [
    {
     "name": "stdout",
     "output_type": "stream",
     "text": [
      "Comment 2 does not mention both #programming and #python.\n"
     ]
    }
   ],
   "source": [
    "# Extract the second comment (assuming comments are zero-indexed)\n",
    "comment_2 = comments[1]  # Comment 2 is the second element (index 1)\n",
    "\n",
    "# Regex to check for both #programming and #python\n",
    "regex = r\"(?=.*#programming)(?=.*#python)\"\n",
    "\n",
    "# Check if the second comment matches\n",
    "if re.search(regex, comment_2):\n",
    "    print(\"Comment 2 mentions both #programming and #python:\")\n",
    "    print(comment_2)\n",
    "else:\n",
    "    print(\"Comment 2 does not mention both #programming and #python.\")\n"
   ]
  },
  {
   "cell_type": "code",
   "execution_count": 142,
   "id": "8fe42fe3-cfbf-447c-a91d-40b6d9634ff6",
   "metadata": {},
   "outputs": [
    {
     "name": "stdout",
     "output_type": "stream",
     "text": [
      "\n",
      "Comments mentioning both #programming and #python:\n",
      "6. \"I learned a lot. #programming #python #tips\"\n",
      "15. \"Well explained. #programming #python #tips\"\n",
      "21. \"Love the content! #programming #python #tips\"\n",
      "30. \"Inspired by the tips. #programming #python #tips\"\n"
     ]
    }
   ],
   "source": [
    "# Find all comments that mention both hashtags\n",
    "matching_comments = [comment.strip() for comment in comments if re.search(regex, comment)]\n",
    "\n",
    "# Print all matching comments\n",
    "print(\"\\nComments mentioning both #programming and #python:\")\n",
    "for comment in matching_comments:\n",
    "    print(comment)\n"
   ]
  }
 ],
 "metadata": {
  "kernelspec": {
   "display_name": "Python 3 (ipykernel)",
   "language": "python",
   "name": "python3"
  },
  "language_info": {
   "codemirror_mode": {
    "name": "ipython",
    "version": 3
   },
   "file_extension": ".py",
   "mimetype": "text/x-python",
   "name": "python",
   "nbconvert_exporter": "python",
   "pygments_lexer": "ipython3",
   "version": "3.9.13"
  }
 },
 "nbformat": 4,
 "nbformat_minor": 5
}
